{
 "cells": [
  {
   "cell_type": "code",
   "execution_count": 1,
   "metadata": {
    "scrolled": true
   },
   "outputs": [
    {
     "name": "stderr",
     "output_type": "stream",
     "text": [
      "[nltk_data] Downloading package punkt to\n",
      "[nltk_data]     /home/gusklezju@GU.GU.SE/nltk_data...\n",
      "[nltk_data]   Package punkt is already up-to-date!\n",
      "[nltk_data] Downloading package stopwords to\n",
      "[nltk_data]     /home/gusklezju@GU.GU.SE/nltk_data...\n",
      "[nltk_data]   Package stopwords is already up-to-date!\n"
     ]
    }
   ],
   "source": [
    "import data_prep\n",
    "import textrank\n",
    "import evaluation\n",
    "import cluster\n",
    "import glob\n",
    "%matplotlib inline"
   ]
  },
  {
   "cell_type": "code",
   "execution_count": 2,
   "metadata": {},
   "outputs": [],
   "source": [
    "#path_to_data = \"../CNN_corpus\"\n",
    "files = glob.glob(\"../CNN_corpus/*\")"
   ]
  },
  {
   "cell_type": "code",
   "execution_count": 3,
   "metadata": {},
   "outputs": [],
   "source": [
    "# read files into dataframes\n",
    "texts_df, summaries_df = data_prep.get_data(files)"
   ]
  },
  {
   "cell_type": "code",
   "execution_count": 4,
   "metadata": {},
   "outputs": [
    {
     "data": {
      "text/html": [
       "<div>\n",
       "<style scoped>\n",
       "    .dataframe tbody tr th:only-of-type {\n",
       "        vertical-align: middle;\n",
       "    }\n",
       "\n",
       "    .dataframe tbody tr th {\n",
       "        vertical-align: top;\n",
       "    }\n",
       "\n",
       "    .dataframe thead th {\n",
       "        text-align: right;\n",
       "    }\n",
       "</style>\n",
       "<table border=\"1\" class=\"dataframe\">\n",
       "  <thead>\n",
       "    <tr style=\"text-align: right;\">\n",
       "      <th></th>\n",
       "      <th>filename</th>\n",
       "      <th>text_num</th>\n",
       "      <th>text</th>\n",
       "    </tr>\n",
       "  </thead>\n",
       "  <tbody>\n",
       "    <tr>\n",
       "      <th>0</th>\n",
       "      <td>../CNN_corpus/train_266.bin</td>\n",
       "      <td>1</td>\n",
       "      <td>manchester united defender luke shaw could ret...</td>\n",
       "    </tr>\n",
       "    <tr>\n",
       "      <th>1</th>\n",
       "      <td>../CNN_corpus/train_266.bin</td>\n",
       "      <td>2</td>\n",
       "      <td>what do kylie minogue and the cancan girls at ...</td>\n",
       "    </tr>\n",
       "    <tr>\n",
       "      <th>2</th>\n",
       "      <td>../CNN_corpus/train_266.bin</td>\n",
       "      <td>3</td>\n",
       "      <td>a husband has been banned from having sex with...</td>\n",
       "    </tr>\n",
       "    <tr>\n",
       "      <th>3</th>\n",
       "      <td>../CNN_corpus/train_266.bin</td>\n",
       "      <td>4</td>\n",
       "      <td>a scathing new report ordered in the wake of t...</td>\n",
       "    </tr>\n",
       "    <tr>\n",
       "      <th>4</th>\n",
       "      <td>../CNN_corpus/train_266.bin</td>\n",
       "      <td>5</td>\n",
       "      <td>for miners working during the soviet regime  i...</td>\n",
       "    </tr>\n",
       "  </tbody>\n",
       "</table>\n",
       "</div>"
      ],
      "text/plain": [
       "                      filename  text_num  \\\n",
       "0  ../CNN_corpus/train_266.bin         1   \n",
       "1  ../CNN_corpus/train_266.bin         2   \n",
       "2  ../CNN_corpus/train_266.bin         3   \n",
       "3  ../CNN_corpus/train_266.bin         4   \n",
       "4  ../CNN_corpus/train_266.bin         5   \n",
       "\n",
       "                                                text  \n",
       "0  manchester united defender luke shaw could ret...  \n",
       "1  what do kylie minogue and the cancan girls at ...  \n",
       "2  a husband has been banned from having sex with...  \n",
       "3  a scathing new report ordered in the wake of t...  \n",
       "4  for miners working during the soviet regime  i...  "
      ]
     },
     "execution_count": 4,
     "metadata": {},
     "output_type": "execute_result"
    }
   ],
   "source": [
    "texts_df.head()\n",
    "#summaries_df.head()"
   ]
  },
  {
   "cell_type": "code",
   "execution_count": 5,
   "metadata": {},
   "outputs": [
    {
     "name": "stdout",
     "output_type": "stream",
     "text": [
      "check complete\n"
     ]
    }
   ],
   "source": [
    "# check if data was read in correctly\n",
    "data_prep.check_data(texts_df, summaries_df)"
   ]
  },
  {
   "cell_type": "code",
   "execution_count": 6,
   "metadata": {},
   "outputs": [
    {
     "name": "stdout",
     "output_type": "stream",
     "text": [
      "file: ../CNN_corpus/test_002.bin\n",
      "article: the thermometer reading mario balotelli shared on social media to prove he was too ill to play against blackburn on wednesday night will make no difference to brendan rodgers . liverpool s manager had already gone cold on the italian  concluding some time ago that he has no future at anfield . rodgers will admit he ignored the warnings about balotelli . he knew jose mourinho considered him  unmanageable  and he listened to the anecdotal evidence he received from the members of his staff who had encountered the troublesome striker during their time at manchester city . but rodgers rather hoped balotelli might be maturing with age  and he made the mistake of thinking he could succeed where others had failed in actually getting through to him . mario balotelli has no future at liverpool after manager brendan rodgers lost patience with the striker . rodgers will admit he ignored the warning signs but had hoped balotelli was maturing as he got older . balotelli shared an image of a thermometer reading to prove he was too ill to play against blackburn . liverpool s manager was desperate too  of course . attempts to recruit other strikers  in particular alexis sanchez  had proved unsuccessful last summer and he was concerned that rickie lambert would not provide ample cover in a champions league season if daniel sturridge suffered further injury problems . he was right to worry about sturridge s physical fragility but wrong  he would probably now concede  to spend  16million on balotelli . for three hours in his office at melwood he attempted to lessen the risk before asking his employers to part with the money . he spoke both to balotelli and his agent  explaining what was expected of every liverpool player and sharing his philosophy on the power of the collective . over the years his c.o.r.e principles speech  commitment . ownership . responsibilities . excellence  had worked with players . he would use a flipchart to deliver his lecture on the standards he demands and  for the most part  players had responded accordingly . but not balotelli . not the player who already had a reputation for having no respect for authority  for his considerable talent or for the clubs he represents . liverpool missed out on alexis sanchez last summer and instead paid  16m to sign balotelli from ac milan . balotelli has endured a torrid time at anfield and has managed to score just once in the premier league . rodgers is saddened by the fact italy international balotelli appears to have no respect for liverpool . crystal palace lrb a rrb lost 31  november 23  2014 reason  hamstring and groin injuries . ludogorets lrb a rrb drew 22  november 26  2014 reason  hamstring and groin injuries . stoke lrb h rrb won 10  november 29  2014 reason  hamstring and groin injuries . leicester lrb a rrb won 13  december 2  2014 reason  hamstring and groin injuries . sunderland lrb h rrb drew 00  december 6  2014 reason  hamstring and groin injuries . basle lrb h rrb drew 11  december 9  2014 reason  hamstring and groin injuries . bournemouth lrb a rrb won 31  december 17  2014 reason  groin injury . arsenal lrb h rrb drew 22  december 21  2014 reason  onematch ban . leicester lrb h rrb drew 22  january 1  2015 reason  not selected . aston villa lrb a rrb won 20  january 17  2015 reason  illness . chelsea lrb h rrb drew 11  januray 20  2015 reason  illness . bolton lrb h rrb drew 00  january 24  2015 reason  not selected . west ham lrb h rrb won 20  january 31  2015 reason  not selected . bolton lrb a rrb won 21  february 4  2015 reason  not selected . everton lrb a rrb drew 00  february 7  2015 reason  not selected . swansea lrb a rrb won 10  march 16  2015 reason  illness . arsenal lrb a rrb lost 41  april 4  2015 reason  knee injury . blackburn lrb a rrb won 10  april 8  2015 reason  illness . rodgers is saddened by the fact that balotelli appears to have no respect for liverpool  and no apparent willingness to even follow the simplest instructions . in sturridge s absence rodgers told balotelli he needed a striker who would  press  at the point of liverpool s attack  who would play high up the field and in so doing set the pattern of liverpool s play . balotelli  much to his manager s frustration  just would nt do it  in the misguided belief that he knew better . on the training field there have been similar issues  a situation that has offended teammates who do buy into rodgers  methods and want to build on the success they enjoyed last season . so there will be no second chance for balotelli at liverpool next season  no opportunity to redeem himself . rodgers is continuing to use him when absolutely necessary but he is at the very top of a list of players he will be putting up for sale this summer . he has to get him out and put what money he can recover for him to better use  if only to improve morale in a dressing room that probably lost patience with the guy before even he did . liverpool players are offended balotelli has not followed simple instructions from his manager this season .\n",
      "summary: s mario balotelli missed liverpool s clash at blackburn due to illness . s s the striker has no future at anfield after brendan rodgers lost patience . s s the liverpool boss will concede he made a mistake in signing balotelli . s s read  robbie savage brands balotelli s absence at blackburn  pathetic  s s click here for all the latest liverpool news . s\n"
     ]
    }
   ],
   "source": [
    "# get a random sample to test summarizer on\n",
    "r_text, r_summary = data_prep.random_sample(texts_df, summaries_df)"
   ]
  },
  {
   "cell_type": "code",
   "execution_count": 7,
   "metadata": {},
   "outputs": [
    {
     "name": "stdout",
     "output_type": "stream",
     "text": [
      "loaded embeddings\n"
     ]
    }
   ],
   "source": [
    "# load pre-trained embeddings for textrank \n",
    "embs = textrank.get_embeddings(\"../glove.6B.100d.txt\")"
   ]
  },
  {
   "cell_type": "code",
   "execution_count": 8,
   "metadata": {},
   "outputs": [
    {
     "name": "stdout",
     "output_type": "stream",
     "text": [
      "in sturridge s absence rodgers told balotelli he needed a striker who would  press  at the point of liverpool s attack  who would play high up the field and in so doing set the pattern of liverpool s play . attempts to recruit other strikers  in particular alexis sanchez  had proved unsuccessful last summer and he was concerned that rickie lambert would not provide ample cover in a champions league season if daniel sturridge suffered further injury problems . the thermometer reading mario balotelli shared on social media to prove he was too ill to play against blackburn on wednesday night will make no difference to brendan rodgers . \n"
     ]
    }
   ],
   "source": [
    "# summarize random sample with textrank\n",
    "r_sum_textrank = textrank.get_summary(r_text, embs, 3)"
   ]
  },
  {
   "cell_type": "code",
   "execution_count": 9,
   "metadata": {},
   "outputs": [
    {
     "name": "stdout",
     "output_type": "stream",
     "text": [
      "Warning: 18/930911 words are not in dictionary, thus set UNK\n"
     ]
    },
    {
     "name": "stderr",
     "output_type": "stream",
     "text": [
      "/usr/local/lib64/python3.7/site-packages/torch/nn/modules/rnn.py:61: UserWarning: dropout option adds dropout after all but last recurrent layer, so non-zero dropout expects num_layers greater than 1, but got dropout=0.25 and num_layers=1\n",
      "  \"num_layers={}\".format(dropout, num_layers))\n"
     ]
    },
    {
     "name": "stdout",
     "output_type": "stream",
     "text": [
      "balotelli  much to his manager s frustration  just would nt do it  in the misguided belief that he knew better . attempts to recruit other strikers  in particular alexis sanchez  had proved unsuccessful last summer and he was concerned that rickie lambert would not provide ample cover in a champions league season if daniel sturridge suffered further injury problems . ludogorets lrb a rrb drew 22  november 26  2014 reason  hamstring and groin injuries .\n"
     ]
    }
   ],
   "source": [
    "# summarize sample with cluster/skipthoughts\n",
    "r_sum_cluster = cluster.get_summary(r_text, 3)"
   ]
  },
  {
   "cell_type": "code",
   "execution_count": 10,
   "metadata": {},
   "outputs": [
    {
     "data": {
      "text/plain": [
       "'s mario balotelli missed liverpool s clash at blackburn due to illness . s s the striker has no future at anfield after brendan rodgers lost patience . s s the liverpool boss will concede he made a mistake in signing balotelli . s s read  robbie savage brands balotelli s absence at blackburn  pathetic  s s click here for all the latest liverpool news . s'"
      ]
     },
     "execution_count": 10,
     "metadata": {},
     "output_type": "execute_result"
    }
   ],
   "source": [
    "# original summary for comparison\n",
    "r_summary"
   ]
  },
  {
   "cell_type": "code",
   "execution_count": 11,
   "metadata": {},
   "outputs": [
    {
     "name": "stdout",
     "output_type": "stream",
     "text": [
      "{'rouge-1': {'f': 0.2705882306290658, 'p': 0.21495327102803738, 'r': 0.36507936507936506}, 'rouge-2': {'f': 0.047619042962018604, 'p': 0.03773584905660377, 'r': 0.06451612903225806}, 'rouge-l': {'f': 0.2601625970784587, 'p': 0.2, 'r': 0.37209302325581395}}\n"
     ]
    }
   ],
   "source": [
    "# calculate rouge score for textrank example\n",
    "tr = evaluation.get_rouge(r_sum_textrank, r_summary)"
   ]
  },
  {
   "cell_type": "code",
   "execution_count": 12,
   "metadata": {},
   "outputs": [
    {
     "name": "stdout",
     "output_type": "stream",
     "text": [
      "{'rouge-1': {'f': 0.10370369872592618, 'p': 0.09722222222222222, 'r': 0.1111111111111111}, 'rouge-2': {'f': 0.0, 'p': 0.0, 'r': 0.0}, 'rouge-l': {'f': 0.1308411166879205, 'p': 0.109375, 'r': 0.16279069767441862}}\n"
     ]
    }
   ],
   "source": [
    "# calculate rouge score for cluster/skipthough example\n",
    "cl= evaluation.get_rouge(r_sum_cluster, r_summary)"
   ]
  },
  {
   "cell_type": "code",
   "execution_count": 13,
   "metadata": {},
   "outputs": [],
   "source": [
    "# extract smaller datasets for evaluation (for efficiency/time reasons)\n",
    "texts_s = texts_df[:10]\n",
    "summaries_s = summaries_df[:10]"
   ]
  },
  {
   "cell_type": "code",
   "execution_count": 14,
   "metadata": {},
   "outputs": [
    {
     "name": "stdout",
     "output_type": "stream",
     "text": [
      "manchester united defender luke shaw could return to action on boxing day against newcastle united . manchester united defender luke shaw could return to action on boxing day against newcastle united . if shaw comes through the next few days unscathed he is line to figure at old trafford against newcastle next week . \n",
      "stunning  one of the custom made shoes created at maison clairvoy . by the 1960s  maison clairvoy had branched out into creating shoes for the theatrical world and today  theatre  cinema and even circuses account for 80 percent of the 400 pairs of shoes and boots the company makes every year . but while maison clairvoy still supplies shoes to the moulin rouge  it regularly makes shoes to order for filmmakers as well . \n",
      "judgment  a judge at the high court lrb pictured rrb in london said the man wanted his wife to come home so he could have sex with his two spouses on alternate days . he added   the right to family life is a qualified right and the evidence overwhelmingly suggests that it is in her best interests that she should live apart from sa . for this reason also it is necessary that sa s right to a family life is compromised . \n",
      "a scathing new report ordered in the wake of the september 19 intrusion into the white house by an armed veteran has found that the secret service needs some major overhauls . this was the second critical report of the agency and its operations in as many months following the sept. 19 incident  in which a texas army veteran armed with a small knife was able to climb over a white house fence and run deep into the executive mansion before being subdued . this was the second critical report of the agency and its operations in as many months following the sept. 19 incident  in which a texas army veteran armed with a small knife was able to climb over a white house fence and run deep into the executive mansion before being subdued . \n",
      "but despite its rusty and ageing appearance  the 1950 s transport system still takes workers in and out of the valley every day  and is one of the most incredible engineering spectacles in the world . comparison  one of the tramway stations in 1960  left  and the present day . today  while some of the cars have rusted away  seventeen  including the ussr s first passenger tramway  remain in service . \n",
      "goldberg asked johnson to come on the view to discuss her story with their audience . anger  goldberg hit back at odonnell s claims that you do nt have to be black to understand racism . the supermodel said she would  but only if she could sit down oneonone with goldberg  who passed her desires along to the show s producers . \n",
      "according to the affidavit  the child told deputies hayden took her virginity when she was 11 years old and that sex acts happened almost daily thereafter . hayden began having sex with the child  then 11 years old  in 2013  according to allegations in an affidavit filed by sheriff s deputies . hayden is accused of raping a young girl multiple times between march 2013 and august according to the indictment  the assaults allegedly began a few days after the girl s 11th birthday . \n",
      "rare opportunity  not since the winter of 2009 have conditions been right to make the journey from shore to the islands safe enough to cross on foot . frozen over  for the first time in five years  visitors can trek a mile out onto lake superior to explore the apostle islands  caves covered in ice . see them while you can  park officials hope to keep the islands open for another six weeks  but conditions could make them inaccessible as soon as saturday . \n",
      "gone with the wind location atlanta features in seventh place  followed by tokyo with scarlett johansson s lost in translation  then bakewell in england with pride  prejudice  and chocolat destination burgundy in france makes up the top 10 . the list  put together by travelzoo  celebrates international kissing day on sunday  and ranks halona cove  hawaii in sixth place  due to the film from here to eternity  starring burt lancaster and deborah kerr . third place  new york was voted one of the best places in the world for couples to pucker up . \n",
      "previous research has shown that children who started using marijuana before the age of 16 are at greater risk of permanent brain damage  and have a significantly higher incidence of psychiatric disorders . the study found that even shortterm exposure to cannabis impaired brain activity  with the damage continuing into adulthood . cannabis has effects on the brain and it s important people can make an informed decision . \n",
      "{'rouge-1': {'f': 0.33258226738419105, 'p': 0.2904709341661479, 'r': 0.3992200372030377}, 'rouge-2': {'f': 0.09120916442039026, 'p': 0.07916898065425555, 'r': 0.11080463548159221}, 'rouge-l': {'f': 0.30010033226111216, 'p': 0.27408563976894657, 'r': 0.3496723963793619}}\n"
     ]
    }
   ],
   "source": [
    "# calculate average score with textrank\n",
    "tr_overall = evaluation.rouge_overall_textrank(texts_s, summaries_s, embs)"
   ]
  },
  {
   "cell_type": "code",
   "execution_count": 15,
   "metadata": {},
   "outputs": [
    {
     "name": "stdout",
     "output_type": "stream",
     "text": [
      "Warning: 4/930911 words are not in dictionary, thus set UNK\n"
     ]
    },
    {
     "name": "stderr",
     "output_type": "stream",
     "text": [
      "/usr/local/lib64/python3.7/site-packages/torch/nn/modules/rnn.py:61: UserWarning: dropout option adds dropout after all but last recurrent layer, so non-zero dropout expects num_layers greater than 1, but got dropout=0.25 and num_layers=1\n",
      "  \"num_layers={}\".format(dropout, num_layers))\n"
     ]
    },
    {
     "name": "stdout",
     "output_type": "stream",
     "text": [
      "shaw injured his ankle in the 21 barclays premier league win at arsenal on november 22 and was expected to be out for between four and six weeks . manchester united defender luke shaw could return to action on boxing day against newcastle united . ashley young has done well in the left wingback position in shaw s absence and is prepared to fill that role again against aston villa on saturday .\n",
      "Warning: 35/930911 words are not in dictionary, thus set UNK\n"
     ]
    },
    {
     "name": "stderr",
     "output_type": "stream",
     "text": [
      "/usr/local/lib64/python3.7/site-packages/torch/nn/modules/rnn.py:61: UserWarning: dropout option adds dropout after all but last recurrent layer, so non-zero dropout expects num_layers greater than 1, but got dropout=0.25 and num_layers=1\n",
      "  \"num_layers={}\".format(dropout, num_layers))\n"
     ]
    },
    {
     "name": "stdout",
     "output_type": "stream",
     "text": [
      "what do kylie minogue and the cancan girls at the moulin rouge have in common  they all get their dancing shoes from maison clairvoy  the parisian bootmaker that has cornered the market for top end  madetomeasure footwear for screen and stage . kylie minogue turned to the company for her 2006 and 2008 tours  with the diminutive pop star requesting shoes with fourinch heels she could dance in and walk down stairs without looking at the steps . that is where tap dancers test the shoes   explains bootmaker nicolas maistriaux  the current director of maison clairvoy .\n",
      "Warning: 7/930911 words are not in dictionary, thus set UNK\n"
     ]
    },
    {
     "name": "stderr",
     "output_type": "stream",
     "text": [
      "/usr/local/lib64/python3.7/site-packages/torch/nn/modules/rnn.py:61: UserWarning: dropout option adds dropout after all but last recurrent layer, so non-zero dropout expects num_layers greater than 1, but got dropout=0.25 and num_layers=1\n",
      "  \"num_layers={}\".format(dropout, num_layers))\n"
     ]
    },
    {
     "name": "stdout",
     "output_type": "stream",
     "text": [
      "important case  the wife  identified only as  tb   has been taken into care under the mental health act by the london borough of tower hamlets lrb whose headquarters are pictured  centre rrb where the family lived . he added   the right to family life is a qualified right and the evidence overwhelmingly suggests that it is in her best interests that she should live apart from sa . she was unable to link sex to pregnancy .\n",
      "Warning: 13/930911 words are not in dictionary, thus set UNK\n"
     ]
    },
    {
     "name": "stderr",
     "output_type": "stream",
     "text": [
      "/usr/local/lib64/python3.7/site-packages/torch/nn/modules/rnn.py:61: UserWarning: dropout option adds dropout after all but last recurrent layer, so non-zero dropout expects num_layers greater than 1, but got dropout=0.25 and num_layers=1\n",
      "  \"num_layers={}\".format(dropout, num_layers))\n"
     ]
    },
    {
     "name": "stdout",
     "output_type": "stream",
     "text": [
      "the panelists were former obama administration associate attorney general tom perrelli  former deputy attorney general mark filip  who served during bush s term  danielle gray  a former assistant to the president for president barack obama  and joe hagin  deputy chief of staff for operations during the bush administration . the independent panel also concluded that training and lack of staffing was also a serious problem for presidential security . this was the second critical report of the agency and its operations in as many months following the sept. 19 incident  in which a texas army veteran armed with a small knife was able to climb over a white house fence and run deep into the executive mansion before being subdued .\n",
      "Warning: 27/930911 words are not in dictionary, thus set UNK\n"
     ]
    },
    {
     "name": "stderr",
     "output_type": "stream",
     "text": [
      "/usr/local/lib64/python3.7/site-packages/torch/nn/modules/rnn.py:61: UserWarning: dropout option adds dropout after all but last recurrent layer, so non-zero dropout expects num_layers greater than 1, but got dropout=0.25 and num_layers=1\n",
      "  \"num_layers={}\".format(dropout, num_layers))\n"
     ]
    },
    {
     "name": "stdout",
     "output_type": "stream",
     "text": [
      "for 50 years  soviet planners struggled to find a way to navigate around the extremes of the town  so they decided the best solution would be aerial . in 1905  a functioning workers  town was built to . the hauling rope broke the lower gondola rolled back and slammed onto the wall of the station injuring people inside  while the upper gondola rolled at high speeds and dropped 20 metres as the breaks did not work .\n",
      "Warning: 11/930911 words are not in dictionary, thus set UNK\n"
     ]
    },
    {
     "name": "stderr",
     "output_type": "stream",
     "text": [
      "/usr/local/lib64/python3.7/site-packages/torch/nn/modules/rnn.py:61: UserWarning: dropout option adds dropout after all but last recurrent layer, so non-zero dropout expects num_layers greater than 1, but got dropout=0.25 and num_layers=1\n",
      "  \"num_layers={}\".format(dropout, num_layers))\n"
     ]
    },
    {
     "name": "stdout",
     "output_type": "stream",
     "text": [
      "goldberg asked johnson to come on the view to discuss her story with their audience . the fight comes just a day after the pair exchanged blows during an interview with former supermodel beverly johnson  who was on air discussing her claims against bill cosby . after pleading her case  abc news actually agreed with her and told producers to go back to beverly and tell her she had to talk to all of the cohosts   the source detailed .e\n",
      "Warning: 7/930911 words are not in dictionary, thus set UNK\n"
     ]
    },
    {
     "name": "stderr",
     "output_type": "stream",
     "text": [
      "/usr/local/lib64/python3.7/site-packages/torch/nn/modules/rnn.py:61: UserWarning: dropout option adds dropout after all but last recurrent layer, so non-zero dropout expects num_layers greater than 1, but got dropout=0.25 and num_layers=1\n",
      "  \"num_layers={}\".format(dropout, num_layers))\n"
     ]
    },
    {
     "name": "stdout",
     "output_type": "stream",
     "text": [
      "the advocate reports the 49yearold hayden  who once starred in the  sons of guns  tv show based out of his baton rouge gun shop  was charged wednesday with two counts of aggravated rape and one count of forcible rape . he was arrested on aggravated rape charges involving a child and had already faced child molestation and aggravated crime against nature charges stemming from an arrest august 9 . the latest rape  the report said  happened in july .\n",
      "Warning: 10/930911 words are not in dictionary, thus set UNK\n"
     ]
    },
    {
     "name": "stderr",
     "output_type": "stream",
     "text": [
      "/usr/local/lib64/python3.7/site-packages/torch/nn/modules/rnn.py:61: UserWarning: dropout option adds dropout after all but last recurrent layer, so non-zero dropout expects num_layers greater than 1, but got dropout=0.25 and num_layers=1\n",
      "  \"num_layers={}\".format(dropout, num_layers))\n"
     ]
    },
    {
     "name": "stdout",
     "output_type": "stream",
     "text": [
      "winter wonderland  in the cold months  the islands  caves become a  fairyland of needlelike icicles  the caves are a popular destination during the summer when they can be accessed by kayak  but they re even more of a draw during winter when as many as 1000 people a day make the trip on the weekend . krumanaker describes the interior of the caves  saying they are covered with what looks to be beautiful rock formations but in reality is stalactites and stalagmites made entire of ice . when the thaw comes  the caves are accessed in the summer by kayak .\n",
      "Warning: 35/930911 words are not in dictionary, thus set UNK\n"
     ]
    },
    {
     "name": "stderr",
     "output_type": "stream",
     "text": [
      "/usr/local/lib64/python3.7/site-packages/torch/nn/modules/rnn.py:61: UserWarning: dropout option adds dropout after all but last recurrent layer, so non-zero dropout expects num_layers greater than 1, but got dropout=0.25 and num_layers=1\n",
      "  \"num_layers={}\".format(dropout, num_layers))\n"
     ]
    },
    {
     "name": "stdout",
     "output_type": "stream",
     "text": [
      "rome featured fourth  thanks to roman holiday starring audrey hepburn  and the stunning wicklow mountains in ireland  featured in ps i love you  make up the top five . the city of love offers endless spots for romance  from a kiss at the top of the eiffel tower to a lovebinding lock on the pont des arts  but singletons can also take a chance lrb like ethan hawke rrb at finding the perfect stranger to watch the sunset with . and remember to slow down   after all  tomorrow is another day  .\n",
      "Warning: 8/930911 words are not in dictionary, thus set UNK\n"
     ]
    },
    {
     "name": "stderr",
     "output_type": "stream",
     "text": [
      "/usr/local/lib64/python3.7/site-packages/torch/nn/modules/rnn.py:61: UserWarning: dropout option adds dropout after all but last recurrent layer, so non-zero dropout expects num_layers greater than 1, but got dropout=0.25 and num_layers=1\n",
      "  \"num_layers={}\".format(dropout, num_layers))\n"
     ]
    },
    {
     "name": "stdout",
     "output_type": "stream",
     "text": [
      "adolescence is the critical period during which marijuana use can be damaging   said the study s lead author  sylvina mullins raver  a phd candidate at the university of maryland school of medicine . adding weed to the mix during adolescence could be the trigger that causes it to develop  permanently impairing brain function and cognition . exposed to the drug before .\n",
      "{'rouge-1': {'f': 0.27262299014789865, 'p': 0.2334101653549694, 'r': 0.3359820121434941}, 'rouge-2': {'f': 0.07857259667510562, 'p': 0.06670343331640252, 'r': 0.09671798599383}, 'rouge-l': {'f': 0.25595337824469294, 'p': 0.21755622022241364, 'r': 0.3180924351756165}}\n"
     ]
    }
   ],
   "source": [
    "# calculate average score with cluster/skipthought\n",
    "cl_overall = evaluation.rouge_overall_cluster(texts_s, summaries_s)"
   ]
  },
  {
   "cell_type": "code",
   "execution_count": 18,
   "metadata": {},
   "outputs": [
    {
     "data": {
      "image/png": "[encoded data removed]",
      "text/plain": [
       "<Figure size 432x288 with 1 Axes>"
      ]
     },
     "metadata": {
      "needs_background": "light"
     },
     "output_type": "display_data"
    }
   ],
   "source": [
    "# compare results in bar chart\n",
    "evaluation.get_barchart(tr_overall, cl_overall, \"rouge-1\")"
   ]
  },
  {
   "cell_type": "code",
   "execution_count": null,
   "metadata": {},
   "outputs": [],
   "source": []
  }
 ],
 "metadata": {
  "kernelspec": {
   "display_name": "Python 3",
   "language": "python",
   "name": "python3"
  },
  "language_info": {
   "codemirror_mode": {
    "name": "ipython",
    "version": 3
   },
   "file_extension": ".py",
   "mimetype": "text/x-python",
   "name": "python",
   "nbconvert_exporter": "python",
   "pygments_lexer": "ipython3",
   "version": "3.7.4"
  }
 },
 "nbformat": 4,
 "nbformat_minor": 2
}
