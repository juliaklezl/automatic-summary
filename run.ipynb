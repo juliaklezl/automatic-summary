{
 "cells": [
  {
   "cell_type": "code",
   "execution_count": 1,
   "metadata": {},
   "outputs": [
    {
     "name": "stderr",
     "output_type": "stream",
     "text": [
      "[nltk_data] Downloading package punkt to\n",
      "[nltk_data]     /home/gusklezju@GU.GU.SE/nltk_data...\n",
      "[nltk_data]   Package punkt is already up-to-date!\n",
      "[nltk_data] Downloading package stopwords to\n",
      "[nltk_data]     /home/gusklezju@GU.GU.SE/nltk_data...\n",
      "[nltk_data]   Package stopwords is already up-to-date!\n"
     ]
    }
   ],
   "source": [
    "import data_prep\n",
    "import textrank\n",
    "import glob"
   ]
  },
  {
   "cell_type": "code",
   "execution_count": 2,
   "metadata": {},
   "outputs": [],
   "source": [
    "#path_to_data = \"../CNN_corpus\"\n",
    "files = glob.glob(\"../CNN_corpus/*\")"
   ]
  },
  {
   "cell_type": "code",
   "execution_count": 3,
   "metadata": {},
   "outputs": [],
   "source": [
    "texts_df, summaries_df = data_prep.get_data(files)"
   ]
  },
  {
   "cell_type": "code",
   "execution_count": 4,
   "metadata": {},
   "outputs": [
    {
     "data": {
      "text/html": [
       "<div>\n",
       "<style scoped>\n",
       "    .dataframe tbody tr th:only-of-type {\n",
       "        vertical-align: middle;\n",
       "    }\n",
       "\n",
       "    .dataframe tbody tr th {\n",
       "        vertical-align: top;\n",
       "    }\n",
       "\n",
       "    .dataframe thead th {\n",
       "        text-align: right;\n",
       "    }\n",
       "</style>\n",
       "<table border=\"1\" class=\"dataframe\">\n",
       "  <thead>\n",
       "    <tr style=\"text-align: right;\">\n",
       "      <th></th>\n",
       "      <th>filename</th>\n",
       "      <th>text_num</th>\n",
       "      <th>text</th>\n",
       "    </tr>\n",
       "  </thead>\n",
       "  <tbody>\n",
       "    <tr>\n",
       "      <th>0</th>\n",
       "      <td>../CNN_corpus/train_266.bin</td>\n",
       "      <td>1</td>\n",
       "      <td>s luke shaw injured ankle in man utd s 21 win ...</td>\n",
       "    </tr>\n",
       "    <tr>\n",
       "      <th>1</th>\n",
       "      <td>../CNN_corpus/train_266.bin</td>\n",
       "      <td>2</td>\n",
       "      <td>s maison clairvoy is a parisian atelier that c...</td>\n",
       "    </tr>\n",
       "    <tr>\n",
       "      <th>2</th>\n",
       "      <td>../CNN_corpus/train_266.bin</td>\n",
       "      <td>3</td>\n",
       "      <td>s woman is wife in a polygamous islamic marria...</td>\n",
       "    </tr>\n",
       "    <tr>\n",
       "      <th>3</th>\n",
       "      <td>../CNN_corpus/train_266.bin</td>\n",
       "      <td>4</td>\n",
       "      <td>s the december 15 report reveals the security ...</td>\n",
       "    </tr>\n",
       "    <tr>\n",
       "      <th>4</th>\n",
       "      <td>../CNN_corpus/train_266.bin</td>\n",
       "      <td>5</td>\n",
       "      <td>s tramway in chiatura  georgia was built by so...</td>\n",
       "    </tr>\n",
       "  </tbody>\n",
       "</table>\n",
       "</div>"
      ],
      "text/plain": [
       "                      filename  text_num  \\\n",
       "0  ../CNN_corpus/train_266.bin         1   \n",
       "1  ../CNN_corpus/train_266.bin         2   \n",
       "2  ../CNN_corpus/train_266.bin         3   \n",
       "3  ../CNN_corpus/train_266.bin         4   \n",
       "4  ../CNN_corpus/train_266.bin         5   \n",
       "\n",
       "                                                text  \n",
       "0  s luke shaw injured ankle in man utd s 21 win ...  \n",
       "1  s maison clairvoy is a parisian atelier that c...  \n",
       "2  s woman is wife in a polygamous islamic marria...  \n",
       "3  s the december 15 report reveals the security ...  \n",
       "4  s tramway in chiatura  georgia was built by so...  "
      ]
     },
     "execution_count": 4,
     "metadata": {},
     "output_type": "execute_result"
    }
   ],
   "source": [
    "texts_df.head()\n",
    "summaries_df.head()"
   ]
  },
  {
   "cell_type": "code",
   "execution_count": 5,
   "metadata": {},
   "outputs": [],
   "source": [
    "data_prep.check_data(texts_df, summaries_df)"
   ]
  },
  {
   "cell_type": "code",
   "execution_count": 6,
   "metadata": {},
   "outputs": [
    {
     "name": "stdout",
     "output_type": "stream",
     "text": [
      "../CNN_corpus/train_098.bin\n",
      "543\n",
      "by . beth stebner . published  . 1119 est  13 july 2012 .  . updated  . 1639 est  13 july 2012 . media magnate david geffen is moving on up  literally  to the extraordinary fifth avenue penthouse once owned by wealthy socialite denise rich . rich  68  the grammynominated songwriter  top democratic donor  and glamorous figure in european royalty circles  renounced her american passport in november  according to her lawyer  and has now sold her main home in the states for a paltry  54million . the massachusettsborn socialite was originally asking  65million for the stunning 12000 squarefoot new york city duplex  but settled for a selling price of millions less . moving on up  media mogul david geffen has just bought the seven bedroom  11 bathroom penthouse on fifth avenue owned by denise rich . grand views  the coop offers a sweeping panorama of grand army plaza and central park . shiny new beginnings  there are marble floors and 11ft ceilings throughout . new and old  dreamworks founder david geffen  left  reportedly purchased denise rich s home for  54million  he currently lives one floor below in the exclusive fifth avenue coop . by dumping her u.s. passport  rich will likely save tens of millions of dollars or more in u.s. taxes over the long haul  tax lawyers say . however  she will still have to pay exit tax on her penthouse . it is a matter of much speculation that . the wealthy ms rich left the states so as not to pay any income tax  if . that is the case  than she can afford a few million dollars loss . the new york post s page six exclusively reported the massive sale  noting that geffen already lives in the building and will likely spend two years renovating the space . rich s apartment is directly below the one he just purchased . sources tell page six that geffen plans on selling his old place rather than combining the two properties . the penthouse sits on fifth avenue  right outside of grand army plaza  the plaza hotel  and central park . the corcoran listing for the apartment calls it  the epitome of luxury and grandeur .  complete with 11ft ceilings and custom mahogany doors  the apartment boasts seven bedrooms and 11 baths  as well a library  two fireplaces  and wraparound terraces . the plush apartment offers sweeping views of the city  all the way across central park and to columbus circle . the dining room  which is off of the chef s kitchen  can seat 22  and leads to one of three terraces . hearth and home  the property s library features a woodburning fireplace  one of two in the 12000 square foot home . fancy feasts  the dining room  which overlooks one of three terraces  seats 22  and has an attached chef s kitchen . the suite life  the plush apartment offers sweeping views of the city  all the way across central park and west to columbus circle . at a loss  geffen purchased the sprawling duplex for a reported  54million   11million less than the listing price  he currently lives in an apartment on the floor below . dream big  the master suite has two bathrooms and closets galore . gutted  rich had a professional recording studio in her home  it is reported that the dreamworks founder will likely tear it out . the incredible space also has two kitchens  a full gym  and a professional recording studio that was used by rich . page six reports that the dreamworks founder will likely tear it out . but aside from the  54million price tag  geffen will have to pay a monthly maintenance fee of  25000 . rich has written songs recorded by aretha franklin  mary j. blige and jessica simpson  and mandy moore  to name a few . when she listed the apartment in january  rich told the post that she had outgrown the space  as her daughters had recently moved out .  my greatest hope is that the next family loves and enjoys this home as much as we did .  she now plans to live in london  it is said  and is a frequent habitu of cannes  monte carlo  and st. tropez  often sailing to each port on her 157ft yacht  lady joy . dining in style  this is one of two kitchens in the coop  complete with granite counter tops and stainless tell appliances . feel the burn  in case too much time was spent in the kitchens  the apartment also comes with a fullyequipped gym . write caption here . panoramic views  looking out the window  one can see the plaza hotel  left  and the southern entrance to central park  with columbus circle to the west . view from the top  the private rooftop terrace also affords a sweeping view of central park . but geffen and rich were supposedly . not on the best of terms . according to page six  geffen threatened to . take rich to court after her jacuzzi flooded  soaking parts of geffen s . apartment . she later settled with him out of court . geffen  . 69  is a stalwart in the media world  with properties both in new york . and malibu . he is the proud owner of a 453foot yacht called the rising . sun  which he bought from larry ellison . he expanded his maritime collection after he reportedly purchased one of roman abramovich s yachts  the 377foot pelorus  for  300million . forbes ranks the university of texas dropout s net worth at  5.5 billion . he began his career sorting mail at the william morris talent agency  the magazine reports  and worked his way up from there . he parted ways from his much younger boyfriend  jeremy lingvall in february  the post said . lingvall  28  is a graduate of the university of santa barbara . sources said that there was no one else involved in the split . famous friends  denise rich  left  seen giving a saxophone thenpresident bill clinton  centre  in november 2000  as first lady hillary clinton applauds  rich recently surrendered her u.s. passport and will be living in london .2\n",
      "543\n",
      "s david geffen  69  is said to have purchased duplex penthouse listed by grammynominated songwriter and socialite denise rich . s s rich recently renounced her american passport and will now live in london . s s sold 12000 squarefoot fifth avenue coop for  11m less than asking price . s\n"
     ]
    }
   ],
   "source": [
    "r_text, r_summary = data_prep.random_sample(texts_df, summaries_df)"
   ]
  },
  {
   "cell_type": "code",
   "execution_count": 7,
   "metadata": {},
   "outputs": [
    {
     "data": {
      "text/plain": [
       "(['by .',\n",
       "  'beth stebner .',\n",
       "  'published  .',\n",
       "  '1119 est  13 july 2012 .',\n",
       "  '.',\n",
       "  'updated  .',\n",
       "  '1639 est  13 july 2012 .',\n",
       "  'media magnate david geffen is moving on up  literally  to the extraordinary fifth avenue penthouse once owned by wealthy socialite denise rich .',\n",
       "  'rich  68  the grammynominated songwriter  top democratic donor  and glamorous figure in european royalty circles  renounced her american passport in november  according to her lawyer  and has now sold her main home in the states for a paltry  54million .',\n",
       "  'the massachusettsborn socialite was originally asking  65million for the stunning 12000 squarefoot new york city duplex  but settled for a selling price of millions less .',\n",
       "  'moving on up  media mogul david geffen has just bought the seven bedroom  11 bathroom penthouse on fifth avenue owned by denise rich .',\n",
       "  'grand views  the coop offers a sweeping panorama of grand army plaza and central park .',\n",
       "  'shiny new beginnings  there are marble floors and 11ft ceilings throughout .',\n",
       "  'new and old  dreamworks founder david geffen  left  reportedly purchased denise rich s home for  54million  he currently lives one floor below in the exclusive fifth avenue coop .',\n",
       "  'by dumping her u.s. passport  rich will likely save tens of millions of dollars or more in u.s. taxes over the long haul  tax lawyers say .',\n",
       "  'however  she will still have to pay exit tax on her penthouse .',\n",
       "  'it is a matter of much speculation that .',\n",
       "  'the wealthy ms rich left the states so as not to pay any income tax  if .',\n",
       "  'that is the case  than she can afford a few million dollars loss .',\n",
       "  'the new york post s page six exclusively reported the massive sale  noting that geffen already lives in the building and will likely spend two years renovating the space .',\n",
       "  'rich s apartment is directly below the one he just purchased .',\n",
       "  'sources tell page six that geffen plans on selling his old place rather than combining the two properties .',\n",
       "  'the penthouse sits on fifth avenue  right outside of grand army plaza  the plaza hotel  and central park .',\n",
       "  'the corcoran listing for the apartment calls it  the epitome of luxury and grandeur .',\n",
       "  'complete with 11ft ceilings and custom mahogany doors  the apartment boasts seven bedrooms and 11 baths  as well a library  two fireplaces  and wraparound terraces .',\n",
       "  'the plush apartment offers sweeping views of the city  all the way across central park and to columbus circle .',\n",
       "  'the dining room  which is off of the chef s kitchen  can seat 22  and leads to one of three terraces .',\n",
       "  'hearth and home  the property s library features a woodburning fireplace  one of two in the 12000 square foot home .',\n",
       "  'fancy feasts  the dining room  which overlooks one of three terraces  seats 22  and has an attached chef s kitchen .',\n",
       "  'the suite life  the plush apartment offers sweeping views of the city  all the way across central park and west to columbus circle .',\n",
       "  'at a loss  geffen purchased the sprawling duplex for a reported  54million   11million less than the listing price  he currently lives in an apartment on the floor below .',\n",
       "  'dream big  the master suite has two bathrooms and closets galore .',\n",
       "  'gutted  rich had a professional recording studio in her home  it is reported that the dreamworks founder will likely tear it out .',\n",
       "  'the incredible space also has two kitchens  a full gym  and a professional recording studio that was used by rich .',\n",
       "  'page six reports that the dreamworks founder will likely tear it out .',\n",
       "  'but aside from the  54million price tag  geffen will have to pay a monthly maintenance fee of  25000 .',\n",
       "  'rich has written songs recorded by aretha franklin  mary j. blige and jessica simpson  and mandy moore  to name a few .',\n",
       "  'when she listed the apartment in january  rich told the post that she had outgrown the space  as her daughters had recently moved out .',\n",
       "  'my greatest hope is that the next family loves and enjoys this home as much as we did .',\n",
       "  'she now plans to live in london  it is said  and is a frequent habitu of cannes  monte carlo  and st. tropez  often sailing to each port on her 157ft yacht  lady joy .',\n",
       "  'dining in style  this is one of two kitchens in the coop  complete with granite counter tops and stainless tell appliances .',\n",
       "  'feel the burn  in case too much time was spent in the kitchens  the apartment also comes with a fullyequipped gym .',\n",
       "  'write caption here .',\n",
       "  'panoramic views  looking out the window  one can see the plaza hotel  left  and the southern entrance to central park  with columbus circle to the west .',\n",
       "  'view from the top  the private rooftop terrace also affords a sweeping view of central park .',\n",
       "  'but geffen and rich were supposedly .',\n",
       "  'not on the best of terms .',\n",
       "  'according to page six  geffen threatened to .',\n",
       "  'take rich to court after her jacuzzi flooded  soaking parts of geffen s .',\n",
       "  'apartment .',\n",
       "  'she later settled with him out of court .',\n",
       "  'geffen  .',\n",
       "  '69  is a stalwart in the media world  with properties both in new york .',\n",
       "  'and malibu .',\n",
       "  'he is the proud owner of a 453foot yacht called the rising .',\n",
       "  'sun  which he bought from larry ellison .',\n",
       "  'he expanded his maritime collection after he reportedly purchased one of roman abramovich s yachts  the 377foot pelorus  for  300million .',\n",
       "  'forbes ranks the university of texas dropout s net worth at  5.5 billion .',\n",
       "  'he began his career sorting mail at the william morris talent agency  the magazine reports  and worked his way up from there .',\n",
       "  'he parted ways from his much younger boyfriend  jeremy lingvall in february  the post said .',\n",
       "  'lingvall  28  is a graduate of the university of santa barbara .',\n",
       "  'sources said that there was no one else involved in the split .',\n",
       "  'famous friends  denise rich  left  seen giving a saxophone thenpresident bill clinton  centre  in november 2000  as first lady hillary clinton applauds  rich recently surrendered her u.s. passport and will be living in london .2'],\n",
       " ['.',\n",
       "  'beth stebner .',\n",
       "  'published .',\n",
       "  '1119 est 13 july 2012 .',\n",
       "  '.',\n",
       "  'updated .',\n",
       "  '1639 est 13 july 2012 .',\n",
       "  'media magnate david geffen moving literally extraordinary fifth avenue penthouse owned wealthy socialite denise rich .',\n",
       "  'rich 68 grammynominated songwriter top democratic donor glamorous figure european royalty circles renounced american passport november according lawyer sold main home states paltry 54million .',\n",
       "  'massachusettsborn socialite originally asking 65million stunning 12000 squarefoot new york city duplex settled selling price millions less .',\n",
       "  'moving media mogul david geffen bought seven bedroom 11 bathroom penthouse fifth avenue owned denise rich .',\n",
       "  'grand views coop offers sweeping panorama grand army plaza central park .',\n",
       "  'shiny new beginnings marble floors 11ft ceilings throughout .',\n",
       "  'new old dreamworks founder david geffen left reportedly purchased denise rich home 54million currently lives one floor exclusive fifth avenue coop .',\n",
       "  'dumping u.s. passport rich likely save tens millions dollars u.s. taxes long haul tax lawyers say .',\n",
       "  'however still pay exit tax penthouse .',\n",
       "  'matter much speculation .',\n",
       "  'wealthy ms rich left states pay income tax .',\n",
       "  'case afford million dollars loss .',\n",
       "  'new york post page six exclusively reported massive sale noting geffen already lives building likely spend two years renovating space .',\n",
       "  'rich apartment directly one purchased .',\n",
       "  'sources tell page six geffen plans selling old place rather combining two properties .',\n",
       "  'penthouse sits fifth avenue right outside grand army plaza plaza hotel central park .',\n",
       "  'corcoran listing apartment calls epitome luxury grandeur .',\n",
       "  'complete 11ft ceilings custom mahogany doors apartment boasts seven bedrooms 11 baths well library two fireplaces wraparound terraces .',\n",
       "  'plush apartment offers sweeping views city way across central park columbus circle .',\n",
       "  'dining room chef kitchen seat 22 leads one three terraces .',\n",
       "  'hearth home property library features woodburning fireplace one two 12000 square foot home .',\n",
       "  'fancy feasts dining room overlooks one three terraces seats 22 attached chef kitchen .',\n",
       "  'suite life plush apartment offers sweeping views city way across central park west columbus circle .',\n",
       "  'loss geffen purchased sprawling duplex reported 54million 11million less listing price currently lives apartment floor .',\n",
       "  'dream big master suite two bathrooms closets galore .',\n",
       "  'gutted rich professional recording studio home reported dreamworks founder likely tear .',\n",
       "  'incredible space also two kitchens full gym professional recording studio used rich .',\n",
       "  'page six reports dreamworks founder likely tear .',\n",
       "  'aside 54million price tag geffen pay monthly maintenance fee 25000 .',\n",
       "  'rich written songs recorded aretha franklin mary j. blige jessica simpson mandy moore name .',\n",
       "  'listed apartment january rich told post outgrown space daughters recently moved .',\n",
       "  'greatest hope next family loves enjoys home much .',\n",
       "  'plans live london said frequent habitu cannes monte carlo st. tropez often sailing port 157ft yacht lady joy .',\n",
       "  'dining style one two kitchens coop complete granite counter tops stainless tell appliances .',\n",
       "  'feel burn case much time spent kitchens apartment also comes fullyequipped gym .',\n",
       "  'write caption .',\n",
       "  'panoramic views looking window one see plaza hotel left southern entrance central park columbus circle west .',\n",
       "  'view top private rooftop terrace also affords sweeping view central park .',\n",
       "  'geffen rich supposedly .',\n",
       "  'best terms .',\n",
       "  'according page six geffen threatened .',\n",
       "  'take rich court jacuzzi flooded soaking parts geffen .',\n",
       "  'apartment .',\n",
       "  'later settled court .',\n",
       "  'geffen .',\n",
       "  '69 stalwart media world properties new york .',\n",
       "  'malibu .',\n",
       "  'proud owner 453foot yacht called rising .',\n",
       "  'sun bought larry ellison .',\n",
       "  'expanded maritime collection reportedly purchased one roman abramovich yachts 377foot pelorus 300million .',\n",
       "  'forbes ranks university texas dropout net worth 5.5 billion .',\n",
       "  'began career sorting mail william morris talent agency magazine reports worked way .',\n",
       "  'parted ways much younger boyfriend jeremy lingvall february post said .',\n",
       "  'lingvall 28 graduate university santa barbara .',\n",
       "  'sources said one else involved split .',\n",
       "  'famous friends denise rich left seen giving saxophone thenpresident bill clinton centre november 2000 first lady hillary clinton applauds rich recently surrendered u.s. passport living london .2'])"
      ]
     },
     "execution_count": 7,
     "metadata": {},
     "output_type": "execute_result"
    }
   ],
   "source": [
    "r_sents = textrank.get_sentence_list(r_text)\n",
    "r_sents"
   ]
  },
  {
   "cell_type": "code",
   "execution_count": 8,
   "metadata": {},
   "outputs": [],
   "source": [
    "embs = textrank.get_embeddings(\"../glove.6B.100d.txt\")"
   ]
  },
  {
   "cell_type": "code",
   "execution_count": null,
   "metadata": {},
   "outputs": [],
   "source": [
    "textrank.similarity_matrix(r_text)"
   ]
  },
  {
   "cell_type": "code",
   "execution_count": null,
   "metadata": {},
   "outputs": [],
   "source": [
    "textrank.get_summary(r_text)"
   ]
  },
  {
   "cell_type": "code",
   "execution_count": null,
   "metadata": {},
   "outputs": [],
   "source": [
    "r_summary"
   ]
  },
  {
   "cell_type": "code",
   "execution_count": null,
   "metadata": {},
   "outputs": [],
   "source": []
  }
 ],
 "metadata": {
  "kernelspec": {
   "display_name": "Python 3",
   "language": "python",
   "name": "python3"
  },
  "language_info": {
   "codemirror_mode": {
    "name": "ipython",
    "version": 3
   },
   "file_extension": ".py",
   "mimetype": "text/x-python",
   "name": "python",
   "nbconvert_exporter": "python",
   "pygments_lexer": "ipython3",
   "version": "3.7.4"
  }
 },
 "nbformat": 4,
 "nbformat_minor": 2
}
