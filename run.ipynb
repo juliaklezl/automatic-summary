{
 "cells": [
  {
   "cell_type": "code",
   "execution_count": 1,
   "metadata": {},
   "outputs": [],
   "source": [
    "from data_prep import get_data, check_data, random_sample\n",
    "import glob"
   ]
  },
  {
   "cell_type": "code",
   "execution_count": 2,
   "metadata": {},
   "outputs": [],
   "source": [
    "path_to_data = \"CNN_corpus\"\n",
    "files = glob.glob(\"CNN_corpus/*\")"
   ]
  },
  {
   "cell_type": "code",
   "execution_count": 3,
   "metadata": {},
   "outputs": [],
   "source": [
    "texts_df, summaries_df = get_data(files)"
   ]
  },
  {
   "cell_type": "code",
   "execution_count": 4,
   "metadata": {},
   "outputs": [
    {
     "data": {
      "text/html": [
       "<div>\n",
       "<style scoped>\n",
       "    .dataframe tbody tr th:only-of-type {\n",
       "        vertical-align: middle;\n",
       "    }\n",
       "\n",
       "    .dataframe tbody tr th {\n",
       "        vertical-align: top;\n",
       "    }\n",
       "\n",
       "    .dataframe thead th {\n",
       "        text-align: right;\n",
       "    }\n",
       "</style>\n",
       "<table border=\"1\" class=\"dataframe\">\n",
       "  <thead>\n",
       "    <tr style=\"text-align: right;\">\n",
       "      <th></th>\n",
       "      <th>filename</th>\n",
       "      <th>text_num</th>\n",
       "      <th>text</th>\n",
       "    </tr>\n",
       "  </thead>\n",
       "  <tbody>\n",
       "    <tr>\n",
       "      <th>0</th>\n",
       "      <td>CNN_corpus/train_266.bin</td>\n",
       "      <td>1</td>\n",
       "      <td>s luke shaw injured ankle in man utd s 21 win ...</td>\n",
       "    </tr>\n",
       "    <tr>\n",
       "      <th>1</th>\n",
       "      <td>CNN_corpus/train_266.bin</td>\n",
       "      <td>2</td>\n",
       "      <td>s maison clairvoy is a parisian atelier that c...</td>\n",
       "    </tr>\n",
       "    <tr>\n",
       "      <th>2</th>\n",
       "      <td>CNN_corpus/train_266.bin</td>\n",
       "      <td>3</td>\n",
       "      <td>s woman is wife in a polygamous islamic marria...</td>\n",
       "    </tr>\n",
       "    <tr>\n",
       "      <th>3</th>\n",
       "      <td>CNN_corpus/train_266.bin</td>\n",
       "      <td>4</td>\n",
       "      <td>s the december 15 report reveals the security ...</td>\n",
       "    </tr>\n",
       "    <tr>\n",
       "      <th>4</th>\n",
       "      <td>CNN_corpus/train_266.bin</td>\n",
       "      <td>5</td>\n",
       "      <td>s tramway in chiatura  georgia was built by so...</td>\n",
       "    </tr>\n",
       "  </tbody>\n",
       "</table>\n",
       "</div>"
      ],
      "text/plain": [
       "                   filename  text_num  \\\n",
       "0  CNN_corpus/train_266.bin         1   \n",
       "1  CNN_corpus/train_266.bin         2   \n",
       "2  CNN_corpus/train_266.bin         3   \n",
       "3  CNN_corpus/train_266.bin         4   \n",
       "4  CNN_corpus/train_266.bin         5   \n",
       "\n",
       "                                                text  \n",
       "0  s luke shaw injured ankle in man utd s 21 win ...  \n",
       "1  s maison clairvoy is a parisian atelier that c...  \n",
       "2  s woman is wife in a polygamous islamic marria...  \n",
       "3  s the december 15 report reveals the security ...  \n",
       "4  s tramway in chiatura  georgia was built by so...  "
      ]
     },
     "execution_count": 4,
     "metadata": {},
     "output_type": "execute_result"
    }
   ],
   "source": [
    "#texts_df.head()\n",
    "summaries_df.head()"
   ]
  },
  {
   "cell_type": "code",
   "execution_count": 5,
   "metadata": {},
   "outputs": [],
   "source": [
    "check_data(texts_df, summaries_df)"
   ]
  },
  {
   "cell_type": "code",
   "execution_count": 9,
   "metadata": {},
   "outputs": [
    {
     "name": "stdout",
     "output_type": "stream",
     "text": [
      "CNN_corpus/train_083.bin\n",
      "986\n",
      "a man has been charged with a federal hate crime in connection with what authorities say was a racially motivated  knockout  assault against an elderly black man  the us justice department said thursday  conrad alvin barrett  27  of katy  texas  has been charged with one count of violating the matthew shepard and james byrd jr  hate crimes prevention act  according to the federal complaint  barrett attacked the 79yearold man  because of the man s race and color   he will next appear in court friday afternoon for a detention hearing  the suspect made a video of the attack november 24  the complaint said  in the video  he allegedly commented that  the plan is to see if i were to hit a black person  would this be nationally televised   he then allegedly  hit the man with such force that the man immediately fell to the ground  barrett then laughed and said  knockout   as he ran to his vehicle and fled   the victim suffered two jaw fractures and was hospitalized for several days  the complaint said  barrett s attorney  george parnham  told cnn the affidavit does not  pull back the layers of mental health   his client has bipolar disorder and takes medication  parnham said in an earlier call  parnham said he could not state whether his client carried out the attack  but   mental health issues definitely played a part in anything that occurred   barrett  is very sorry for this person   parnham said  adding that he and his client have nt had much opportunity to discuss the facts of the case   knockout game  a national problem  the  knockout game  is an assault in which an assailant aims to knock out an unsuspecting victim with one punch  according to the justice department complaint  there have been  knockout game  incidents  some of which have been called other names  as long ago as 1992  new york police previously charged suspect marajh amrit with a hate crime in the alleged attack of a white jewish man as part of a  knockout  game  similar cases have been reported recently in several states  including illinois  missouri and washington   hate crimes tear at the fabric of entire communities   us acting assistant attorney general jocelyn samuels said thursday in a justice department statement announcing the charge against barrett   as always  the civil rights division will work with our federal and state law enforcement partners to ensure that hate crimes are identified and prosecuted  and that justice is done   barrett  who is white  allegedly recorded himself on his cell phone attacking the man and showed the video to others  the department said   the complaint alleges barrett made several videos  one in which he identifies himself and another in which he makes a racial slur  in addition  barrett had allegedly been working up the  courage  to play the  knockout game  for approximately a week   the victim s face was swollen on one side  and he has had to use a straw to drink  a nephew  joseph lewis  told cnn affiliate ktrktv in houston  the station reported that barrett faces up to 10 years in prison and a  250000 fine if convicted  barrett told an offduty police officer what happened and shared a video  saying he felt bad  the affidavit said  in other videos on his phone that police confiscated  barrett used the nword and said that africanamericans  have nt fully experienced the blessing of evolution   according to the criminal complaint   it is unimaginable in this day and age that one could be drawn to violently attack another based on the color of their skin   said special agent in charge stephen morris of the fbi s houston office   we remind all citizens that we are protected under the law from such racially motivated attacks  and encourage everyone to report such crimes to the fbi   new york case  in a separate case  new york city police on wednesday searched for a man who allegedly punched a 33yearold woman in the back of the head in brooklyn in what may be a  knockout  assault  despite that and other cases  new york police commissioner ray kelly said last month that city officials have nt seen evidence of a trend  though they are not ruling out the idea   the press has named it the socalled knockout game  we do nt discount that that exists  it s a possibility  we ve investigated and will continue to investigate   kelly told reporters in late november  possible  knockout  game victim   the whole group of kids just laughed  police keep close eye on reports of disturbing  knockout  game u\n",
      "986\n",
      "s alleged attacker will be in court friday afternoon for detention hearing  s s his attorney says his client has bipolar disorder  s s victim suffered two jaw fractures and was hospitalized for days  complaint says  s s in separate case  new york police charged a knockout suspect with a hate crime  s\n"
     ]
    }
   ],
   "source": [
    "random_sample(texts_df, summaries_df)"
   ]
  },
  {
   "cell_type": "code",
   "execution_count": null,
   "metadata": {},
   "outputs": [],
   "source": []
  }
 ],
 "metadata": {
  "kernelspec": {
   "display_name": "Python 3",
   "language": "python",
   "name": "python3"
  },
  "language_info": {
   "codemirror_mode": {
    "name": "ipython",
    "version": 3
   },
   "file_extension": ".py",
   "mimetype": "text/x-python",
   "name": "python",
   "nbconvert_exporter": "python",
   "pygments_lexer": "ipython3",
   "version": "3.7.4"
  }
 },
 "nbformat": 4,
 "nbformat_minor": 2
}
