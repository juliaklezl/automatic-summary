{
 "cells": [
  {
   "cell_type": "code",
   "execution_count": 1,
   "metadata": {},
   "outputs": [
    {
     "name": "stderr",
     "output_type": "stream",
     "text": [
      "[nltk_data] Downloading package punkt to\n",
      "[nltk_data]     /home/gusklezju@GU.GU.SE/nltk_data...\n",
      "[nltk_data]   Package punkt is already up-to-date!\n",
      "[nltk_data] Downloading package stopwords to\n",
      "[nltk_data]     /home/gusklezju@GU.GU.SE/nltk_data...\n",
      "[nltk_data]   Package stopwords is already up-to-date!\n"
     ]
    }
   ],
   "source": [
    "import data_prep\n",
    "import textrank\n",
    "import glob"
   ]
  },
  {
   "cell_type": "code",
   "execution_count": 2,
   "metadata": {},
   "outputs": [],
   "source": [
    "#path_to_data = \"../CNN_corpus\"\n",
    "files = glob.glob(\"../CNN_corpus/*\")"
   ]
  },
  {
   "cell_type": "code",
   "execution_count": 3,
   "metadata": {},
   "outputs": [],
   "source": [
    "texts_df, summaries_df = data_prep.get_data(files)"
   ]
  },
  {
   "cell_type": "code",
   "execution_count": 4,
   "metadata": {},
   "outputs": [
    {
     "data": {
      "text/html": [
       "<div>\n",
       "<style scoped>\n",
       "    .dataframe tbody tr th:only-of-type {\n",
       "        vertical-align: middle;\n",
       "    }\n",
       "\n",
       "    .dataframe tbody tr th {\n",
       "        vertical-align: top;\n",
       "    }\n",
       "\n",
       "    .dataframe thead th {\n",
       "        text-align: right;\n",
       "    }\n",
       "</style>\n",
       "<table border=\"1\" class=\"dataframe\">\n",
       "  <thead>\n",
       "    <tr style=\"text-align: right;\">\n",
       "      <th></th>\n",
       "      <th>filename</th>\n",
       "      <th>text_num</th>\n",
       "      <th>text</th>\n",
       "    </tr>\n",
       "  </thead>\n",
       "  <tbody>\n",
       "    <tr>\n",
       "      <th>0</th>\n",
       "      <td>../CNN_corpus/train_266.bin</td>\n",
       "      <td>1</td>\n",
       "      <td>s luke shaw injured ankle in man utd s 21 win ...</td>\n",
       "    </tr>\n",
       "    <tr>\n",
       "      <th>1</th>\n",
       "      <td>../CNN_corpus/train_266.bin</td>\n",
       "      <td>2</td>\n",
       "      <td>s maison clairvoy is a parisian atelier that c...</td>\n",
       "    </tr>\n",
       "    <tr>\n",
       "      <th>2</th>\n",
       "      <td>../CNN_corpus/train_266.bin</td>\n",
       "      <td>3</td>\n",
       "      <td>s woman is wife in a polygamous islamic marria...</td>\n",
       "    </tr>\n",
       "    <tr>\n",
       "      <th>3</th>\n",
       "      <td>../CNN_corpus/train_266.bin</td>\n",
       "      <td>4</td>\n",
       "      <td>s the december 15 report reveals the security ...</td>\n",
       "    </tr>\n",
       "    <tr>\n",
       "      <th>4</th>\n",
       "      <td>../CNN_corpus/train_266.bin</td>\n",
       "      <td>5</td>\n",
       "      <td>s tramway in chiatura  georgia was built by so...</td>\n",
       "    </tr>\n",
       "  </tbody>\n",
       "</table>\n",
       "</div>"
      ],
      "text/plain": [
       "                      filename  text_num  \\\n",
       "0  ../CNN_corpus/train_266.bin         1   \n",
       "1  ../CNN_corpus/train_266.bin         2   \n",
       "2  ../CNN_corpus/train_266.bin         3   \n",
       "3  ../CNN_corpus/train_266.bin         4   \n",
       "4  ../CNN_corpus/train_266.bin         5   \n",
       "\n",
       "                                                text  \n",
       "0  s luke shaw injured ankle in man utd s 21 win ...  \n",
       "1  s maison clairvoy is a parisian atelier that c...  \n",
       "2  s woman is wife in a polygamous islamic marria...  \n",
       "3  s the december 15 report reveals the security ...  \n",
       "4  s tramway in chiatura  georgia was built by so...  "
      ]
     },
     "execution_count": 4,
     "metadata": {},
     "output_type": "execute_result"
    }
   ],
   "source": [
    "texts_df.head()\n",
    "summaries_df.head()"
   ]
  },
  {
   "cell_type": "code",
   "execution_count": 5,
   "metadata": {},
   "outputs": [],
   "source": [
    "data_prep.check_data(texts_df, summaries_df)"
   ]
  },
  {
   "cell_type": "code",
   "execution_count": 6,
   "metadata": {},
   "outputs": [
    {
     "name": "stdout",
     "output_type": "stream",
     "text": [
      "../CNN_corpus/train_016.bin\n",
      "41\n",
      "lrb cnn rrb  the pakistani military reported killing 40 militants thursday near the border with afghanistan  the latest in a string of clashes in a frontier region rife with extremism . pakistani soldiers carry their weapons as they patrol . on the other side of the border  however  security forces have made such gains that a top american commander said wednesday he does not expect a taliban offensive in eastern afghanistan this spring . the flareup of violence on the pakistani side of the border  along with the commander s comments in washington  suggest that the taliban and its al qaeda allies may be focusing more on western pakistan even as violence subsides just across the border in afghanistan . defense secretary robert gates recently noted the increase in activity in pakistan .  al qaeda right now seems to have turned its face toward pakistan and attacks on the pakistani government and pakistani people   he said on december 31 . in the latest clashes in pakistan  the military said it killed 40  miscreants  and detained 30 in south waziristan  a remote tribal region on the afghan border that is a stronghold for militants allied to the taliban and al qaeda . clashes between the pakistani armed forces and militants there have killed scores of people in recent weeks . the increasing violence on the pakistani border comes amid security improvements just over the border  in eastern afghanistan  according to an assessment provided wednesday by u.s. army maj. gen. david rodriguez  who commands american forces in eastern afghanistan . the general said wednesday that he did not expect the taliban to launch an offensive in eastern afghanistan this spring  as some have expected . the united states recently announced plans to send about 3000 marines to southern afghanistan  however  citing the possibility of a spring offensive in that region . in the eastern part of the country  afghan and american security forces report fewer militants crossing into the country from pakistan  rodriguez said . challenges remain  he said  but functioning local governments and increased commerce have boosted confidence .  every day in eastern afghanistan  we see progress in security  development and governance   he said in a pentagon press briefing .  the people of afghanistan do nt want the taliban back  and the strength of their institutions has grown significantly in the last year .  email to a friend .n\n",
      "41\n",
      "s pakistani military reports killing 40 militants near the border with afghanistan . s s this is the latest in a string of clashes in a frontier region rife with extremism . s s taliban and its al qaeda allies may be focusing more on western pakistan . s\n"
     ]
    }
   ],
   "source": [
    "r_text, r_summary = data_prep.random_sample(texts_df, summaries_df)"
   ]
  },
  {
   "cell_type": "code",
   "execution_count": 7,
   "metadata": {},
   "outputs": [
    {
     "data": {
      "text/plain": [
       "(['lrb cnn rrb  the pakistani military reported killing 40 militants thursday near the border with afghanistan  the latest in a string of clashes in a frontier region rife with extremism .',\n",
       "  'pakistani soldiers carry their weapons as they patrol .',\n",
       "  'on the other side of the border  however  security forces have made such gains that a top american commander said wednesday he does not expect a taliban offensive in eastern afghanistan this spring .',\n",
       "  'the flareup of violence on the pakistani side of the border  along with the commander s comments in washington  suggest that the taliban and its al qaeda allies may be focusing more on western pakistan even as violence subsides just across the border in afghanistan .',\n",
       "  'defense secretary robert gates recently noted the increase in activity in pakistan .',\n",
       "  'al qaeda right now seems to have turned its face toward pakistan and attacks on the pakistani government and pakistani people   he said on december 31 .',\n",
       "  'in the latest clashes in pakistan  the military said it killed 40  miscreants  and detained 30 in south waziristan  a remote tribal region on the afghan border that is a stronghold for militants allied to the taliban and al qaeda .',\n",
       "  'clashes between the pakistani armed forces and militants there have killed scores of people in recent weeks .',\n",
       "  'the increasing violence on the pakistani border comes amid security improvements just over the border  in eastern afghanistan  according to an assessment provided wednesday by u.s. army maj. gen. david rodriguez  who commands american forces in eastern afghanistan .',\n",
       "  'the general said wednesday that he did not expect the taliban to launch an offensive in eastern afghanistan this spring  as some have expected .',\n",
       "  'the united states recently announced plans to send about 3000 marines to southern afghanistan  however  citing the possibility of a spring offensive in that region .',\n",
       "  'in the eastern part of the country  afghan and american security forces report fewer militants crossing into the country from pakistan  rodriguez said .',\n",
       "  'challenges remain  he said  but functioning local governments and increased commerce have boosted confidence .',\n",
       "  'every day in eastern afghanistan  we see progress in security  development and governance   he said in a pentagon press briefing .',\n",
       "  'the people of afghanistan do nt want the taliban back  and the strength of their institutions has grown significantly in the last year .',\n",
       "  'email to a friend .n'],\n",
       " ['lrb cnn rrb pakistani military reported killing 40 militants thursday near border afghanistan latest string clashes frontier region rife extremism .',\n",
       "  'pakistani soldiers carry weapons patrol .',\n",
       "  'side border however security forces made gains top american commander said wednesday expect taliban offensive eastern afghanistan spring .',\n",
       "  'flareup violence pakistani side border along commander comments washington suggest taliban al qaeda allies may focusing western pakistan even violence subsides across border afghanistan .',\n",
       "  'defense secretary robert gates recently noted increase activity pakistan .',\n",
       "  'al qaeda right seems turned face toward pakistan attacks pakistani government pakistani people said december 31 .',\n",
       "  'latest clashes pakistan military said killed 40 miscreants detained 30 south waziristan remote tribal region afghan border stronghold militants allied taliban al qaeda .',\n",
       "  'clashes pakistani armed forces militants killed scores people recent weeks .',\n",
       "  'increasing violence pakistani border comes amid security improvements border eastern afghanistan according assessment provided wednesday u.s. army maj. gen. david rodriguez commands american forces eastern afghanistan .',\n",
       "  'general said wednesday expect taliban launch offensive eastern afghanistan spring expected .',\n",
       "  'united states recently announced plans send 3000 marines southern afghanistan however citing possibility spring offensive region .',\n",
       "  'eastern part country afghan american security forces report fewer militants crossing country pakistan rodriguez said .',\n",
       "  'challenges remain said functioning local governments increased commerce boosted confidence .',\n",
       "  'every day eastern afghanistan see progress security development governance said pentagon press briefing .',\n",
       "  'people afghanistan nt want taliban back strength institutions grown significantly last year .',\n",
       "  'email friend .n'])"
      ]
     },
     "execution_count": 7,
     "metadata": {},
     "output_type": "execute_result"
    }
   ],
   "source": [
    "r_sents = textrank.get_sentence_list(r_text)\n",
    "r_sents"
   ]
  },
  {
   "cell_type": "code",
   "execution_count": 8,
   "metadata": {},
   "outputs": [],
   "source": [
    "embs = textrank.get_embeddings(\"glove.6B.100d.txt\")"
   ]
  },
  {
   "cell_type": "code",
   "execution_count": 9,
   "metadata": {},
   "outputs": [
    {
     "data": {
      "text/plain": [
       "(array([[0.        , 0.86569571, 0.90208304, 0.94974834, 0.78460634,\n",
       "         0.90625536, 0.95107347, 0.93995857, 0.92071229, 0.8741498 ,\n",
       "         0.87050307, 0.93131053, 0.73114395, 0.83193374, 0.81697947,\n",
       "         0.35851398],\n",
       "        [0.86569571, 0.        , 0.85908693, 0.85411346, 0.74797696,\n",
       "         0.84648335, 0.86476868, 0.88876367, 0.87379611, 0.80043185,\n",
       "         0.81501186, 0.87889451, 0.67752814, 0.7733497 , 0.77244812,\n",
       "         0.38162838],\n",
       "        [0.90208304, 0.85908693, 0.        , 0.9353469 , 0.89250761,\n",
       "         0.93379158, 0.87927771, 0.87761658, 0.96125436, 0.96666372,\n",
       "         0.95139384, 0.96359366, 0.84246969, 0.91764915, 0.90547949,\n",
       "         0.40843186],\n",
       "        [0.94974834, 0.85411346, 0.9353469 , 0.        , 0.83760166,\n",
       "         0.94589114, 0.92439067, 0.90434545, 0.94160497, 0.90019453,\n",
       "         0.903485  , 0.94338971, 0.77398789, 0.86070085, 0.85713649,\n",
       "         0.40066816],\n",
       "        [0.78460634, 0.74797696, 0.89250761, 0.83760166, 0.        ,\n",
       "         0.86991847, 0.72743076, 0.75248492, 0.89013559, 0.87977064,\n",
       "         0.88357067, 0.8767848 , 0.87031698, 0.90772402, 0.84594977,\n",
       "         0.4883459 ],\n",
       "        [0.90625536, 0.84648335, 0.93379158, 0.94589114, 0.86991847,\n",
       "         0.        , 0.90147787, 0.9025529 , 0.90854979, 0.90897214,\n",
       "         0.89554065, 0.94777483, 0.81967127, 0.87789661, 0.89741862,\n",
       "         0.47125121],\n",
       "        [0.95107347, 0.86476868, 0.87927771, 0.92439067, 0.72743076,\n",
       "         0.90147787, 0.        , 0.92815268, 0.8844685 , 0.84841055,\n",
       "         0.82272959, 0.90667593, 0.66864365, 0.77359384, 0.79273647,\n",
       "         0.33227349],\n",
       "        [0.93995857, 0.88876367, 0.87761658, 0.90434545, 0.75248492,\n",
       "         0.9025529 , 0.92815268, 0.        , 0.87952292, 0.83656549,\n",
       "         0.8289327 , 0.90528107, 0.72371525, 0.78326815, 0.82750654,\n",
       "         0.36316762],\n",
       "        [0.92071229, 0.87379611, 0.96125436, 0.94160497, 0.89013559,\n",
       "         0.90854979, 0.8844685 , 0.87952292, 0.        , 0.92536014,\n",
       "         0.92912108, 0.96152961, 0.81718028, 0.90798014, 0.86009204,\n",
       "         0.41192884],\n",
       "        [0.8741498 , 0.80043185, 0.96666372, 0.90019453, 0.87977064,\n",
       "         0.90897214, 0.84841055, 0.83656549, 0.92536014, 0.        ,\n",
       "         0.94850522, 0.92519349, 0.82930732, 0.91242915, 0.9012565 ,\n",
       "         0.39409175],\n",
       "        [0.87050307, 0.81501186, 0.95139384, 0.903485  , 0.88357067,\n",
       "         0.89554065, 0.82272959, 0.8289327 , 0.92912108, 0.94850522,\n",
       "         0.        , 0.94127524, 0.82918513, 0.90210956, 0.89659154,\n",
       "         0.41971858],\n",
       "        [0.93131053, 0.87889451, 0.96359366, 0.94338971, 0.8767848 ,\n",
       "         0.94777483, 0.90667593, 0.90528107, 0.96152961, 0.92519349,\n",
       "         0.94127524, 0.        , 0.84538013, 0.91702706, 0.90006632,\n",
       "         0.41512551],\n",
       "        [0.73114395, 0.67752814, 0.84246969, 0.77398789, 0.87031698,\n",
       "         0.81967127, 0.66864365, 0.72371525, 0.81718028, 0.82930732,\n",
       "         0.82918513, 0.84538013, 0.        , 0.87466425, 0.88397467,\n",
       "         0.37410731],\n",
       "        [0.83193374, 0.7733497 , 0.91764915, 0.86070085, 0.90772402,\n",
       "         0.87789661, 0.77359384, 0.78326815, 0.90798014, 0.91242915,\n",
       "         0.90210956, 0.91702706, 0.87466425, 0.        , 0.87327898,\n",
       "         0.46451017],\n",
       "        [0.81697947, 0.77244812, 0.90547949, 0.85713649, 0.84594977,\n",
       "         0.89741862, 0.79273647, 0.82750654, 0.86009204, 0.9012565 ,\n",
       "         0.89659154, 0.90006632, 0.88397467, 0.87327898, 0.        ,\n",
       "         0.4006433 ],\n",
       "        [0.35851398, 0.38162838, 0.40843186, 0.40066816, 0.4883459 ,\n",
       "         0.47125121, 0.33227349, 0.36316762, 0.41192884, 0.39409175,\n",
       "         0.41971858, 0.41512551, 0.37410731, 0.46451017, 0.4006433 ,\n",
       "         0.        ]]),\n",
       " ['lrb cnn rrb  the pakistani military reported killing 40 militants thursday near the border with afghanistan  the latest in a string of clashes in a frontier region rife with extremism .',\n",
       "  'pakistani soldiers carry their weapons as they patrol .',\n",
       "  'on the other side of the border  however  security forces have made such gains that a top american commander said wednesday he does not expect a taliban offensive in eastern afghanistan this spring .',\n",
       "  'the flareup of violence on the pakistani side of the border  along with the commander s comments in washington  suggest that the taliban and its al qaeda allies may be focusing more on western pakistan even as violence subsides just across the border in afghanistan .',\n",
       "  'defense secretary robert gates recently noted the increase in activity in pakistan .',\n",
       "  'al qaeda right now seems to have turned its face toward pakistan and attacks on the pakistani government and pakistani people   he said on december 31 .',\n",
       "  'in the latest clashes in pakistan  the military said it killed 40  miscreants  and detained 30 in south waziristan  a remote tribal region on the afghan border that is a stronghold for militants allied to the taliban and al qaeda .',\n",
       "  'clashes between the pakistani armed forces and militants there have killed scores of people in recent weeks .',\n",
       "  'the increasing violence on the pakistani border comes amid security improvements just over the border  in eastern afghanistan  according to an assessment provided wednesday by u.s. army maj. gen. david rodriguez  who commands american forces in eastern afghanistan .',\n",
       "  'the general said wednesday that he did not expect the taliban to launch an offensive in eastern afghanistan this spring  as some have expected .',\n",
       "  'the united states recently announced plans to send about 3000 marines to southern afghanistan  however  citing the possibility of a spring offensive in that region .',\n",
       "  'in the eastern part of the country  afghan and american security forces report fewer militants crossing into the country from pakistan  rodriguez said .',\n",
       "  'challenges remain  he said  but functioning local governments and increased commerce have boosted confidence .',\n",
       "  'every day in eastern afghanistan  we see progress in security  development and governance   he said in a pentagon press briefing .',\n",
       "  'the people of afghanistan do nt want the taliban back  and the strength of their institutions has grown significantly in the last year .',\n",
       "  'email to a friend .n'])"
      ]
     },
     "execution_count": 9,
     "metadata": {},
     "output_type": "execute_result"
    }
   ],
   "source": [
    "textrank.similarity_matrix(r_text)"
   ]
  },
  {
   "cell_type": "code",
   "execution_count": 10,
   "metadata": {},
   "outputs": [
    {
     "data": {
      "text/plain": [
       "'in the eastern part of the country  afghan and american security forces report fewer militants crossing into the country from pakistan  rodriguez said . on the other side of the border  however  security forces have made such gains that a top american commander said wednesday he does not expect a taliban offensive in eastern afghanistan this spring . the increasing violence on the pakistani border comes amid security improvements just over the border  in eastern afghanistan  according to an assessment provided wednesday by u.s. army maj. gen. david rodriguez  who commands american forces in eastern afghanistan . al qaeda right now seems to have turned its face toward pakistan and attacks on the pakistani government and pakistani people   he said on december 31 . the flareup of violence on the pakistani side of the border  along with the commander s comments in washington  suggest that the taliban and its al qaeda allies may be focusing more on western pakistan even as violence subsides just across the border in afghanistan . '"
      ]
     },
     "execution_count": 10,
     "metadata": {},
     "output_type": "execute_result"
    }
   ],
   "source": [
    "textrank.get_summary(r_text)"
   ]
  },
  {
   "cell_type": "code",
   "execution_count": 11,
   "metadata": {},
   "outputs": [
    {
     "data": {
      "text/plain": [
       "'s pakistani military reports killing 40 militants near the border with afghanistan . s s this is the latest in a string of clashes in a frontier region rife with extremism . s s taliban and its al qaeda allies may be focusing more on western pakistan . s'"
      ]
     },
     "execution_count": 11,
     "metadata": {},
     "output_type": "execute_result"
    }
   ],
   "source": [
    "r_summary"
   ]
  },
  {
   "cell_type": "code",
   "execution_count": null,
   "metadata": {},
   "outputs": [],
   "source": []
  }
 ],
 "metadata": {
  "kernelspec": {
   "display_name": "Python 3",
   "language": "python",
   "name": "python3"
  },
  "language_info": {
   "codemirror_mode": {
    "name": "ipython",
    "version": 3
   },
   "file_extension": ".py",
   "mimetype": "text/x-python",
   "name": "python",
   "nbconvert_exporter": "python",
   "pygments_lexer": "ipython3",
   "version": "3.7.4"
  }
 },
 "nbformat": 4,
 "nbformat_minor": 2
}
